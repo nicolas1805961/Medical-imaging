{
 "cells": [
  {
   "cell_type": "markdown",
   "metadata": {},
   "source": [
    "# Projet IMED S8\n",
    "\n",
    "Ce projet a pour but de vous faire manipuler ET analyser des images médicales : ici des scans de poumons ayant des tumeurs.\n",
    " \n",
    "<font color=\"red\"> **Rendu attendu** </font> : ce notebook complété et **bien** commenté. Vous devez faire un notebook *didactique* (comprendre : je ne dois pas me dire \"mais qu'est-ce que c'est que ce truc ?\" en lisant votre code. Je dois comprendre ce qu'il s'est passé dans vos têtes et juste comprendre votre notebook). Les instructions sont écrites en <font color=\"blue\"> bleu </font>. Les projets sont à me rendre par groupes de 2 ou 3.\n",
    " \n",
    "<font color=\"red\"> **Date de rendu** </font> : 30 Août 23h59 (tout retard sera pénalisé). Je vous conseille de me les rendre avant si vous voulez avoir des vacances...\n",
    "\n",
    "<font color=\"blue\"> **Instructions**: \n",
    "    * Etape 1 : Segmentez les poumons (cf TP1)\n",
    "    * Etape 2 : Segmentez la tumeur\n",
    "    * Etape 3 : Exploitez vos résultats : \n",
    "                ** Quel est le volume de chaque poumon ?\n",
    "                ** Quelle est la taille des tumeurs ?\n",
    "    * Critiquez vos résultats : Peut on trouver quel est le poumon gauche ou droit en fonction du volume ? A quel point votre segmentation de tumeur est précise ? \n",
    "    \n",
    "<font color=\"blue\"> Vous devez donc faire un programme/une fonction/un bout de code qui, pour une image d'entrée, ressort tout ce qui est demandé dans les \"Etapes\". Je testerai avec une image que vous n'avez pas : je veux donc en sortie une image avec les poumons segmentés (si je peux me balader dans cette image c'est cool, sinon il faut que je puisse choisir la slice affichée), une image avec la tumeur segmentée (pareil), et les volumes. La partie critique doit apparaître à la fin de votre notebook.</font>\n",
    "\n",
    "\n",
    "\n",
    "\n",
    "<font color=\"red\"> **Données** </font> : <font color=\"black\"> Le dossier données comprend les images et les vérités terrains. A chaque image est associée une vérité terrain : cette vérité terrain est là pour vous aider à comprendre où est la tumeur, et pour vous permettre d'évaluer votre segmentation. Attention, quand je testerai votre programme, j'utiliserai des images SANS vérité terrain. Elles ne sont donc là que pour vous permettre de voir où vous en êtes niveau segmentation, ce n'est pas un input supplémentaire.</font> \n"
   ]
  },
  {
   "cell_type": "markdown",
   "metadata": {},
   "source": [
    "# Nicolas Portal - Clément Rebut - Xavier Fichter"
   ]
  },
  {
   "cell_type": "markdown",
   "metadata": {},
   "source": [
    "# Solution proposée\n",
    "\n",
    "La solution proposée se décompose en plusieurs grandes étapes:\n",
    "* **Pré-traitement:** Débruitage des slices avant de commencer le traitement complet\n",
    "* **Segmentation des poumons:** Binariser les slices, segmenter les poumons et calculer leur volume.\n",
    "* **Prétraitement avant de segmenter les tumeurs:** traitement des poumons segmentés pour faciliter la segmentation des tumeurs.\n",
    "* **Segmentation des tumeurs:** Segmentation des tumeurs et calcul du volume."
   ]
  },
  {
   "cell_type": "code",
   "execution_count": 8,
   "metadata": {},
   "outputs": [],
   "source": [
    "import os\n",
    "import glob\n",
    "import numpy as np\n",
    "import scipy as sp\n",
    "import nibabel as nib\n",
    "from matplotlib import pyplot as plt\n",
    "from skimage.measure import label, regionprops\n",
    "%matplotlib inline\n"
   ]
  },
  {
   "cell_type": "markdown",
   "metadata": {},
   "source": [
    "## Utilitaires"
   ]
  },
  {
   "cell_type": "markdown",
   "metadata": {},
   "source": [
    "Fonction pour afficher les slices"
   ]
  },
  {
   "cell_type": "code",
   "execution_count": 9,
   "metadata": {},
   "outputs": [],
   "source": [
    "%matplotlib inline\n",
    "from ipywidgets import interact, interactive, fixed, interact_manual\n",
    "import ipywidgets as widgets\n",
    "\n",
    "def display(img, slice_number):\n",
    "    plt.figure(figsize=(16, 9))\n",
    "    plt.imshow(img[..., slice_number], cmap='gray')"
   ]
  },
  {
   "cell_type": "markdown",
   "metadata": {},
   "source": [
    "Fonction pour charger les données"
   ]
  },
  {
   "cell_type": "code",
   "execution_count": 10,
   "metadata": {},
   "outputs": [],
   "source": [
    "def load(path_data):\n",
    "    img = nib.load(path_data)\n",
    "    img_data = img.get_fdata()\n",
    "    img_data = np.rot90(img_data, 1)\n",
    "    return img_data, img"
   ]
  },
  {
   "cell_type": "markdown",
   "metadata": {},
   "source": [
    "## Pré-traitement"
   ]
  },
  {
   "cell_type": "markdown",
   "metadata": {},
   "source": [
    "Fonction appliquant un filtre médian à tous les slices"
   ]
  },
  {
   "cell_type": "code",
   "execution_count": 11,
   "metadata": {},
   "outputs": [],
   "source": [
    "from skimage.morphology import binary_closing, area_opening, square, diamond\n",
    "from skimage.morphology import erosion\n",
    "from skimage.filters import median\n",
    "\n",
    "def preprocess(img):\n",
    "    struct_median = square(5)\n",
    "    test = img[..., 0]\n",
    "    first_image = median(test, struct_median)\n",
    "    for i in range(1, img.shape[2]):\n",
    "        test = img[..., i]\n",
    "        test = median(test, struct_median)\n",
    "        first_image = np.dstack((first_image, test))\n",
    "    return first_image"
   ]
  },
  {
   "cell_type": "markdown",
   "metadata": {},
   "source": [
    "## Segmentation des poumons"
   ]
  },
  {
   "cell_type": "markdown",
   "metadata": {},
   "source": [
    "Cette fonction retourne les slices binarisées avec la methode d'otsu ainsi que ces mêmes slices fermés à l'aide d'un element structurant sous la forme d'un disque de diametre égale à 6"
   ]
  },
  {
   "cell_type": "code",
   "execution_count": 12,
   "metadata": {},
   "outputs": [],
   "source": [
    "from skimage.filters import threshold_otsu\n",
    "from skimage.morphology import binary_closing, binary_opening, square, diamond, disk\n",
    "\n",
    "def image_segmentation_otsu(img):\n",
    "    struct_closing = disk(6)\n",
    "    test = img[..., 0]\n",
    "    thresh = threshold_otsu(test)\n",
    "    first_image = test > thresh\n",
    "    first_image = np.invert(first_image)\n",
    "    first_image_closed = (binary_closing(first_image, struct_closing)).astype(np.uint8) * 255\n",
    "    for i in range(1, img.shape[2]):\n",
    "        test = img[..., i]\n",
    "        thresh = threshold_otsu(test)\n",
    "        binary = test > thresh\n",
    "        binary = np.invert(binary)\n",
    "        binary_closed = (binary_closing(binary, struct_closing)).astype(np.uint8) * 255\n",
    "        first_image_closed = np.dstack((first_image_closed, binary_closed))\n",
    "        first_image = np.dstack((first_image, binary))\n",
    "    return first_image_closed, first_image"
   ]
  },
  {
   "cell_type": "markdown",
   "metadata": {},
   "source": [
    "Cette fonction permet de retirer les objets qui touchent le bord de l'image. Cela permet de ne garder que les poumons segmentés.\n",
    "\n",
    "Afin de retirer les objets indésirables, une reconstruction est utilisée en utilisant une graine qui fait le tour de l'image. Les objets obtenus avec la recustruction sont retirés de l'image et seuls les poumons restent."
   ]
  },
  {
   "cell_type": "code",
   "execution_count": 13,
   "metadata": {
    "tags": []
   },
   "outputs": [],
   "source": [
    "from skimage.color import label2rgb\n",
    "from skimage.measure import label, regionprops\n",
    "from skimage.morphology import reconstruction\n",
    "import random\n",
    "\n",
    "def get_segmented_lung(otsu, otsu_closed):\n",
    "    out_image = otsu.copy()\n",
    "    for i in range(otsu.shape[2]):\n",
    "        rec = np.ones(shape=(otsu.shape[0], otsu.shape[1]))\n",
    "        rec[1:rec.shape[0]-1, 1:rec.shape[1]-1] = 0\n",
    "        seed = rec * out_image[..., i]\n",
    "        border = reconstruction(seed, otsu[..., i]).astype(np.uint8)\n",
    "        out_image[..., i] = out_image[..., i] - border\n",
    "    return out_image"
   ]
  },
  {
   "cell_type": "markdown",
   "metadata": {},
   "source": [
    "Cette fonction efface les formes qui se trouvent au dessus du point le plus haut des poumons ou au dessous du point le plus bas des poumons ou a gauche du point le plus à gauche des poumons ou a droite du point le plus à droite des poumons. Cette fonction elimine également les formes se trouvant entre les deux poumons."
   ]
  },
  {
   "cell_type": "code",
   "execution_count": 14,
   "metadata": {
    "tags": []
   },
   "outputs": [],
   "source": [
    "from skimage.measure import points_in_poly\n",
    "from skimage.segmentation import flood, flood_fill\n",
    "from scipy.ndimage.morphology import binary_fill_holes\n",
    "\n",
    "def remove_blobs(lung):\n",
    "    col = lung.shape[1]\n",
    "    out_image = np.copy(lung)\n",
    "    for i in range(lung.shape[2]):\n",
    "\n",
    "        if np.count_nonzero(lung[..., i]) == 0:\n",
    "            continue\n",
    "\n",
    "        filled = (binary_fill_holes(lung[..., i])).astype(np.uint8) * 255\n",
    "        label_image, num = label(filled, return_num=True)\n",
    "\n",
    "        if num == 1:\n",
    "            continue\n",
    "\n",
    "        max_region_area = 0\n",
    "        max_region = 0\n",
    "        second_max_region_area = 0\n",
    "        second_max_region = 0\n",
    "        j = 0\n",
    "        regions = regionprops(label_image)\n",
    "        for index, region in enumerate(regions):\n",
    "            if region.area > max_region_area:\n",
    "                max_region_area = region.area\n",
    "                max_region = region.coords\n",
    "                j = index\n",
    "\n",
    "        del regions[j]\n",
    "\n",
    "        for region in regions:\n",
    "            if region.area > second_max_region_area:\n",
    "                second_max_region_area = region.area\n",
    "                second_max_region = region.coords\n",
    "\n",
    "        left = min(np.min(max_region[:, 1]), np.min(second_max_region[:, 1]))\n",
    "        right = max(np.max(max_region[:, 1]), np.max(second_max_region[:, 1]))\n",
    "        top = min(np.min(max_region[:, 0]), np.min(second_max_region[:, 0]))\n",
    "        bottom = max(np.max(max_region[:, 0]), np.max(second_max_region[:, 0]))\n",
    "\n",
    "        for region in regionprops(label_image):\n",
    "            if ((region.centroid[1] > (col // 2) - (col // 8) and region.centroid[1] < (col // 2) + (col // 8) and region.area < 1500) or                         region.centroid[0] < top or region.centroid[0] > bottom or region.centroid[1] > right or region.centroid[1] < left) :\n",
    "                centroid = tuple(int(x) for x in region.centroid)\n",
    "                label_image = flood_fill(label_image, centroid, 0)\n",
    "        out_image[..., i][label_image == 0] = 0\n",
    "    return out_image"
   ]
  },
  {
   "cell_type": "markdown",
   "metadata": {},
   "source": [
    "Cette fonction renvoit les poumons correctement segmentés ainsi que le nombre de pixels dans le poumon gauche et droit de chaque slices. On ferme les poumons et bouche les trous.\n",
    "\n",
    "Si les deux poumons ne font qu'un, on les détache en appliquant une ouverture dont l'élément structurant est de taille croissante. Le nombre de pixels renvoyé correspond à la somme de tous les pixels du poumon gauche suivant toutes les slices, ainsi que la somme de tous les pixels du poumon droit suivant toutes les slices. Cela va permettre de calculer le volume de chaque poumon."
   ]
  },
  {
   "cell_type": "code",
   "execution_count": 15,
   "metadata": {
    "tags": []
   },
   "outputs": [],
   "source": [
    "from skimage.morphology import rectangle\n",
    "\n",
    "def compute_volume_pixels(lung):\n",
    "    col = lung.shape[1]\n",
    "    left_volume = 0\n",
    "    right_volume = 0\n",
    "    struct_opening_post = disk(2)\n",
    "    struct_closing = disk(10)\n",
    "    filled = np.copy(lung)\n",
    "    label_image = np.zeros(lung[..., 0].shape)\n",
    "    max_area = 0\n",
    "    for i in range(lung.shape[2]):\n",
    "\n",
    "        if np.count_nonzero(lung[..., i]) == 0:\n",
    "            continue\n",
    "\n",
    "        label_image_first, num = label(lung[..., i], return_num=True)\n",
    "        coords = regionprops(label_image_first)[0].coords\n",
    "        threshold = coords[0, 0] + ((coords[-1, 0] - coords[0, 0]) // 8)\n",
    "\n",
    "        filled_test = (binary_fill_holes(lung[..., i])).astype(np.uint8) * 255\n",
    "        closed_test = filled_test.copy()\n",
    "        closed_test = (binary_closing(filled_test, struct_closing)).astype(np.uint8) * 255\n",
    "        closed_test = (binary_opening(closed_test, struct_opening_post)).astype(np.uint8) * 255\n",
    "\n",
    "        label_image, num = label(closed_test, return_num=True)\n",
    "\n",
    "        size = 5\n",
    "        opened_high = closed_test.copy()\n",
    "        while size <= 40 and num == 1 and regionprops(label_image)[0].area > 10000:\n",
    "            struct_opening = disk(size)\n",
    "            opened_high = (binary_opening(opened_high, struct_opening)).astype(np.uint8) * 255\n",
    "            label_image, num = label(opened_high, return_num=True)\n",
    "            size += 5\n",
    "        if size <= 40:\n",
    "            closed_test = opened_high\n",
    "\n",
    "        filled_test_second = (binary_fill_holes(closed_test)).astype(np.uint8) * 255\n",
    "        #filled_test_second = (binary_opening(filled_test_second, struct_opening_post)).astype(np.uint8) * 255\n",
    "\n",
    "        label_image, num = label(filled_test_second, return_num=True)\n",
    "    \n",
    "        filled[..., i] = filled_test_second\n",
    "        \n",
    "        area = 0\n",
    "        for region in regionprops(label_image):\n",
    "            area += region.area\n",
    "            if np.sum(region.coords[:, 1] > col // 2) <= np.sum(region.coords[:, 1] <= col // 2):\n",
    "                left_volume += region.area\n",
    "            else:\n",
    "                right_volume += region.area\n",
    "\n",
    "    return left_volume, right_volume, filled"
   ]
  },
  {
   "cell_type": "markdown",
   "metadata": {},
   "source": [
    "## Pré-traitement pour segmenter les tumeurs "
   ]
  },
  {
   "cell_type": "markdown",
   "metadata": {},
   "source": [
    "Cette fonction permet de remplir les crevasses dans les poumons. Cela va permettre d'identifier les tumeurs au bord des poumons. Pour cela on utilise le watershed sur l'inverse de l'image. Puis grace à une approximation polynomiale de la convex hull, on determine si la zone doit être remplie.\n",
    "\n",
    "Si tous les pixels de la zone ne sont pas dans la convex hull et si le centroïde de la zone n'est pas dans la convex hull alors on ne rempli pas la zone."
   ]
  },
  {
   "cell_type": "code",
   "execution_count": 16,
   "metadata": {
    "tags": []
   },
   "outputs": [],
   "source": [
    "from skimage.morphology import convex_hull_object\n",
    "from skimage.measure import find_contours\n",
    "from skimage.measure import approximate_polygon\n",
    "from scipy import ndimage as ndi\n",
    "from skimage.feature import peak_local_max\n",
    "from skimage.segmentation import watershed\n",
    "\n",
    "def fill(lung):\n",
    "    struct = disk(5)\n",
    "    test = lung.copy()\n",
    "    for i in range(lung.shape[2]):\n",
    "        test[..., i] = binary_fill_holes(lung[..., i])\n",
    "\n",
    "        label_test, num = label(test[..., i], return_num=True)\n",
    "        if num != 2:\n",
    "            continue\n",
    "\n",
    "        chull = convex_hull_object(test[..., i])\n",
    "        coords = []\n",
    "        for contour in find_contours(chull, 0):\n",
    "            coords.append(approximate_polygon(contour, tolerance=0))\n",
    "        \n",
    "        if len(coords) < 2:\n",
    "            continue\n",
    "\n",
    "        inverted = np.invert(test[..., i])\n",
    "        distance = ndi.distance_transform_edt(inverted)\n",
    "        peaks = peak_local_max(distance, labels=inverted)\n",
    "\n",
    "        left_peaks = points_in_poly(peaks, coords[0])\n",
    "        right_peaks = points_in_poly(peaks, coords[1])\n",
    "        peaks_mask = left_peaks | right_peaks\n",
    "        peaks = peaks[peaks_mask]\n",
    "        peak_image = np.zeros(lung[..., i].shape)\n",
    "        peak_image[peaks[:, 0], peaks[:, 1]] = 1\n",
    "\n",
    "        if len(peaks == 1):\n",
    "            peak_image[0, 0] = 1\n",
    "\n",
    "        markers = ndi.label(peak_image)[0]\n",
    "        labels = watershed(-distance, markers, mask=inverted)\n",
    "        labels[labels == 1] = 0\n",
    "\n",
    "        for region in regionprops(labels):\n",
    "            centroid = np.asarray([int(x) for x in region.centroid]).reshape(1, 2)\n",
    "            if ((np.sum(points_in_poly(region.coords, coords[0])) < region.area and\n",
    "            np.sum(points_in_poly(region.coords, coords[1])) < region.area) or \n",
    "            (not points_in_poly(centroid, coords[1]) and not points_in_poly(centroid, coords[1]))):\n",
    "                centroid = tuple(int(x) for x in region.centroid)\n",
    "                labels = flood_fill(labels, centroid, 0)\n",
    "\n",
    "        labels[labels > 0] = 255\n",
    "        test[..., i][labels > 0] = 255\n",
    "\n",
    "    return test"
   ]
  },
  {
   "cell_type": "markdown",
   "metadata": {},
   "source": [
    "Cette fonction fait la différence entre les poumons pleins et les poumons non pleins. Cela permet de récupérer les régions pouvant être des tumeurs. On utilise le watershed basé sur la distance au fond pour effacer les régions dont moins de la moitié des pixels se trouvent dans la zone des poumons."
   ]
  },
  {
   "cell_type": "code",
   "execution_count": 17,
   "metadata": {
    "tags": []
   },
   "outputs": [],
   "source": [
    "def get_sub(lung, segmented_lung):\n",
    "    struct_closing = disk(20)\n",
    "    struct_opening = disk(3)\n",
    "    sub = lung.copy()\n",
    "    for i in range(lung.shape[2]):\n",
    "\n",
    "        if np.count_nonzero(lung[..., i]) == 0:\n",
    "            sub[..., i] = np.zeros(lung[..., i].shape)\n",
    "            continue\n",
    "\n",
    "        test = lung[..., i]\n",
    "\n",
    "        coords = []\n",
    "        for contour in find_contours(segmented_lung[..., i], 0):\n",
    "            coords.append(approximate_polygon(contour, tolerance=0))\n",
    "\n",
    "        sub[..., i] = test.astype(np.uint8) - segmented_lung[..., i].astype(np.uint8)\n",
    "\n",
    "        distance = ndi.distance_transform_edt(sub[..., i])\n",
    "        local_maxi = peak_local_max(distance, indices=False, labels=sub[..., i])\n",
    "        markers = ndi.label(local_maxi)[0]\n",
    "        labels = watershed(-distance, markers, mask=sub[..., i])\n",
    "\n",
    "        for region in regionprops(labels):\n",
    "            remove  = True\n",
    "            for coord in coords:\n",
    "                if np.sum(points_in_poly(region.coords, coord)) > (region.area // 2):\n",
    "                    remove = False\n",
    "            if remove:\n",
    "                centroid = tuple(int(x) for x in region.centroid)\n",
    "                labels = flood_fill(labels, centroid, 0)\n",
    "\n",
    "        labels[labels > 0] = 255\n",
    "        sub[..., i] = labels\n",
    "\n",
    "    return sub"
   ]
  },
  {
   "cell_type": "markdown",
   "metadata": {},
   "source": [
    "## Segmentation des tumeurs"
   ]
  },
  {
   "cell_type": "markdown",
   "metadata": {},
   "source": [
    "## Segmentation préliminaire"
   ]
  },
  {
   "cell_type": "markdown",
   "metadata": {},
   "source": [
    "Cette fonction effectue une première segmentation des tumeurs. On selectionne la zone de plus grande taille. On tient compte de l'eccentricité de la region ainsi que du rapport du nombre de pixels dans la region sur le nombre de pixels de la bounding box (extent). On selectionne également uniquement les régions dont la taille n'est pas trop grande ou trop petite."
   ]
  },
  {
   "cell_type": "code",
   "execution_count": 18,
   "metadata": {},
   "outputs": [],
   "source": [
    "def get_tumors(sub):\n",
    "    tumors = np.zeros(sub.shape)\n",
    "    struct = disk(4)\n",
    "    for i in range(sub.shape[2]):\n",
    "        if np.count_nonzero(sub[..., i]) == 0:\n",
    "            continue\n",
    "        \n",
    "        test = binary_opening(sub[..., i], struct)\n",
    "        label_image = label(test)\n",
    "\n",
    "        list_of_data = []\n",
    "        for region in regionprops(label_image):\n",
    "            data = []\n",
    "            centroid = tuple(int(x) for x in region.centroid)\n",
    "            if region.eccentricity < 0.9 and region.extent > 0.5 and region.area < 3600 and region.area > 50:\n",
    "                data.append(centroid)\n",
    "                data.append(region.area)\n",
    "                list_of_data.append(data)\n",
    "        \n",
    "        if not list_of_data:\n",
    "            continue\n",
    "\n",
    "        centroid = max(list_of_data, key=lambda item:item[1])[0]\n",
    "        segmented_tumor = flood_fill(label_image, centroid, 255)\n",
    "        segmented_tumor[segmented_tumor < 255] = 0\n",
    "        tumors[..., i] = segmented_tumor\n",
    "    tumors /= 255\n",
    "    return tumors"
   ]
  },
  {
   "cell_type": "markdown",
   "metadata": {},
   "source": [
    "## Assemblage des slices de tumeurs"
   ]
  },
  {
   "cell_type": "markdown",
   "metadata": {},
   "source": [
    "Cette fonction permet de récupérer les séquences de slices où l'on a trouvé une tumeur dans la même region. Ces séquences sont sous la forme de sous-listes au sein d'une liste. Ces sous-listes sont composées des numéros des slices. Pour se faire, on récupère les coordonnés de l'aproximation polynomiale de chaque tumeur pour chaque slice. Ensuite on compare le centroid de la tumeur dans la slice courante aux coordonnés du polynome dans la slice précédente. Si le centroid se situe à l'intérieur du polynome alors il s'agit de la même région et donc de la même sous-liste."
   ]
  },
  {
   "cell_type": "code",
   "execution_count": 19,
   "metadata": {
    "tags": []
   },
   "outputs": [],
   "source": [
    "def get_sequences(tumors):\n",
    "    list_of_sequence = []\n",
    "    sequence = []\n",
    "    j = 0\n",
    "    while np.count_nonzero(tumors[..., j]) == 0:\n",
    "        j += 1\n",
    "    sequence.append(j)\n",
    "    label_image = label(tumors[..., j])\n",
    "    contour = find_contours(label_image, 0)[0]\n",
    "    coords_region_previous = approximate_polygon(contour, tolerance=0)\n",
    "    previous_index = j\n",
    "    for i in range(j + 1, tumors.shape[2]):\n",
    "        if np.count_nonzero(tumors[..., i]) == 0:\n",
    "            continue\n",
    "        label_image = label(tumors[..., i])\n",
    "        centroid = regionprops(label_image)[0].centroid\n",
    "        centroid = np.asarray([int(x) for x in centroid]).reshape(1, 2)\n",
    "        if points_in_poly(centroid, coords_region_previous) and abs(i - previous_index) < 3:\n",
    "            sequence.append(i)\n",
    "        else:\n",
    "            list_of_sequence.append(sequence)\n",
    "            sequence = []\n",
    "            sequence.append(i)\n",
    "        contour = find_contours(label_image, 0)[0]\n",
    "        coords_region_previous = approximate_polygon(contour, tolerance=0)\n",
    "        previous_index = i\n",
    "    list_of_sequence.append(sequence)\n",
    "    return list_of_sequence"
   ]
  },
  {
   "cell_type": "markdown",
   "metadata": {},
   "source": [
    "Cette fonction permet de rassembler les sous-listes séparées par une sous-liste de taille 1. En effet, il est possible qu'au sein d'une suite de tumeurs dans la même région, une tumeur dans une slice ait été incorrectement ségmentée. On itére sonc ici sur 3 sous-listes à la fois. On s'assure que la region de tumeur de la dernière slice de la séquence précedente et de la première slice de la séquence suivante soient similaires."
   ]
  },
  {
   "cell_type": "code",
   "execution_count": 20,
   "metadata": {
    "tags": []
   },
   "outputs": [],
   "source": [
    "def merge_sublist(list_of_sequence, tumors):\n",
    "    flag = True\n",
    "    while flag:\n",
    "        merged_sublists = []\n",
    "        for i in range(1, len(list_of_sequence) - 2):\n",
    "            if (len(list_of_sequence[i]) == 1 and len(list_of_sequence[i - 1]) >= 2 and len(list_of_sequence[i + 1]) >= 2 and\n",
    "            abs(list_of_sequence[i - 1][-1] - list_of_sequence[i][0]) < 3 and abs(list_of_sequence[i][-1] - list_of_sequence[i + 1][0]) < 3):\n",
    "\n",
    "                label_image = label(tumors[..., list_of_sequence[i - 1][-1]])\n",
    "                contour = find_contours(label_image, 0)[0]\n",
    "                coords_region_previous = approximate_polygon(contour, tolerance=0)\n",
    "\n",
    "                label_image = label(tumors[..., list_of_sequence[i + 1][0]])\n",
    "                centroid = regionprops(label_image)[0].centroid\n",
    "                centroid = np.asarray([int(x) for x in centroid]).reshape(1, 2)\n",
    "\n",
    "                if points_in_poly(centroid, coords_region_previous):\n",
    "                    new_sublist = []\n",
    "                    new_sublist = list_of_sequence[i - 1] + list_of_sequence[i] + list_of_sequence[i + 1]\n",
    "                    merged_sublists += (new_sublist, i - 1)\n",
    "                    flag = True\n",
    "                    break\n",
    "            flag = False\n",
    "        if flag:\n",
    "            del list_of_sequence[merged_sublists[1]]\n",
    "            del list_of_sequence[merged_sublists[1]]\n",
    "            del list_of_sequence[merged_sublists[1]]\n",
    "            list_of_sequence.append(merged_sublists[0])\n",
    "            list_of_sequence.sort(key=lambda x:x[0])\n",
    "    return list_of_sequence\n"
   ]
  },
  {
   "cell_type": "markdown",
   "metadata": {},
   "source": [
    "Cette fonction permet de récupérer les numéros de slices compris dans des sous-listes de taille supérieur à un seuil. Ce seuil est calculé en se basant sur la taille moyenne des séquences de taille supérieur à 2."
   ]
  },
  {
   "cell_type": "code",
   "execution_count": 21,
   "metadata": {
    "tags": []
   },
   "outputs": [],
   "source": [
    "def filter_sublists(list_of_sequence):\n",
    "    list_above_two = [x for x in list_of_sequence if len(x) >= 2]\n",
    "    threshold = round(sum([len(x) for x in list_above_two]) / len(list_above_two))\n",
    "    list_of_sequence = [x for x in list_of_sequence if len(x) >= threshold]\n",
    "    list_of_sequence = [j for i in list_of_sequence for j in i]\n",
    "    return list_of_sequence"
   ]
  },
  {
   "cell_type": "markdown",
   "metadata": {},
   "source": [
    "Cette fonction permet de récupérer la region la plus probable de la tumeur. Pour cela on fait la somme de tous les pixels de chaque slice obtenus dans la fonction précédente. On obtient ainsi une carte des probabilités. Ensuite, pour chaque région de la carte de probabilité, on obtient l'intensité moyenne de la région (grace à la fonction regionprops).\n",
    "\n",
    "La région ayant l'intensité moyenne la plus élevée au sein de l'image (carte de probabilité) est désignée comme étant la région de recherche.\n",
    "\n",
    "Avant cela on a pris soin de ramener les valeurs de la carte de probabilité entre 0 et 255. Les régions de la carte des probabilités ne satisfaisant pas certains critères sont éliminées."
   ]
  },
  {
   "cell_type": "code",
   "execution_count": 22,
   "metadata": {
    "tags": []
   },
   "outputs": [],
   "source": [
    "def get_tumor_region(tumors, list_of_sequence):\n",
    "    struct = disk(2)\n",
    "\n",
    "    res = np.sum(tumors[..., list_of_sequence], axis=2)\n",
    "\n",
    "    min_value = np.min(res)\n",
    "    max_value = np.max(res)\n",
    "\n",
    "    res = (((res - min_value) / (max_value - min_value)) * 255).astype(np.uint8)\n",
    "\n",
    "    thresh = threshold_otsu(res)\n",
    "    res_otsu = res > thresh\n",
    "\n",
    "    #res_otsu = binary_opening(res_otsu, struct)\n",
    "\n",
    "    label_image = label(res_otsu)\n",
    "    regions = regionprops(label_image)\n",
    "\n",
    "    for region in regions:\n",
    "        if region.eccentricity > 0.9 or region.extent < 0.6 or region.area > 3000 or region.area < 150:\n",
    "            centroid = tuple(int(x) for x in region.centroid)\n",
    "            label_image = flood_fill(label_image, centroid, 0)\n",
    "\n",
    "    label_image[label_image > 0] = 255\n",
    "    res[label_image == 0] = 0\n",
    "\n",
    "    l, num = label(label_image, return_num=True)\n",
    "    if num < 1:\n",
    "        label_image = label(res_otsu)\n",
    "        regions = regionprops(label_image)\n",
    "\n",
    "        for region in regions:\n",
    "            if region.eccentricity > 0.9 or region.extent < 0.5 or region.area > 3000 or region.area < 150:\n",
    "                centroid = tuple(int(x) for x in region.centroid)\n",
    "                label_image = flood_fill(label_image, centroid, 0)\n",
    "\n",
    "        label_image[label_image > 0] = 255\n",
    "        res[label_image == 0] = 0\n",
    "\n",
    "        l, num = label(label_image, return_num=True)\n",
    "\n",
    "    regions = regionprops(l, intensity_image=res)\n",
    "    mean_intensity = [x.mean_intensity for x in regions]\n",
    "    max_intensity = np.max(mean_intensity)\n",
    "    for index, region in enumerate(regions):\n",
    "        if region.mean_intensity < max_intensity:\n",
    "            centroid = tuple(int(x) for x in region.centroid)\n",
    "            label_image = flood_fill(label_image, centroid, 0)\n",
    "\n",
    "    area = regionprops(label_image)[0].area\n",
    "\n",
    "    contour = find_contours(label_image, 0)[0]\n",
    "    coords_region = approximate_polygon(contour, tolerance=0)\n",
    "\n",
    "    return coords_region, area, label_image\n"
   ]
  },
  {
   "cell_type": "markdown",
   "metadata": {},
   "source": [
    "Cette fonction permet de récupérer le numéro de slice inférieur et le numéro de slice supérieur (intervalle) de la région de recherche obtenue dans la fonction precedente. Il s'agit donc du numéro de slice inférieur et supérieur des slices ayant permis d'obtenir la région de plus forte probabilité.\n",
    "\n",
    "Pour se faire, on compare les coordonnés de l'aproximation polynomiale de la region de recherche avec les coordonnés des zones tumorales de chaque slice obtenu grâce à la fonction \"filter_sublists\"."
   ]
  },
  {
   "cell_type": "code",
   "execution_count": 23,
   "metadata": {
    "tags": []
   },
   "outputs": [],
   "source": [
    "def get_search_area(list_of_sequence_merged, tumors, area, coords_region):\n",
    "    list_above_two = [x for x in list_of_sequence_merged if len(x) >= 2]\n",
    "    list_of_ratio = []\n",
    "    for sublist in list_above_two:\n",
    "        res = np.sum(tumors[..., sublist], axis=2)\n",
    "        min_value = np.min(res)\n",
    "        max_value = np.max(res)\n",
    "\n",
    "        res = (((res - min_value) / (max_value - min_value)) * 255).astype(np.uint8)\n",
    "\n",
    "        thresh = threshold_otsu(res)\n",
    "        res_otsu = res > thresh\n",
    "\n",
    "        l, num = label(res_otsu, return_num=True)\n",
    "\n",
    "        coords = regionprops(l)[0].coords\n",
    "\n",
    "        good = np.sum(points_in_poly(coords, coords_region))\n",
    "\n",
    "        ratio = good / area\n",
    "\n",
    "        list_of_ratio.append((ratio, sublist[0], sublist[-1]))\n",
    "        max_value = max(list_of_ratio, key=lambda item:item[0])\n",
    "    return max_value[1], max_value[2]"
   ]
  },
  {
   "cell_type": "markdown",
   "metadata": {},
   "source": [
    "## Segmentation finale des tumeurs"
   ]
  },
  {
   "cell_type": "markdown",
   "metadata": {},
   "source": [
    "Cette fonction effectue la deuxième et dernière ségmentation des tumeurs. Elle est presque identique à la fonction effectuant la première segmentation. Elle tient compte cependant de la region de plus forte probabilité calculée precedemment. C'est a dire qu'on accepte uniquement les zones potentielles dont au moins la moitié des pixels sont présent dans la zone la plus probable (calculée précédemment)."
   ]
  },
  {
   "cell_type": "code",
   "execution_count": 24,
   "metadata": {},
   "outputs": [],
   "source": [
    "def get_tumors_post(sub, coords, min_slice, max_slice):\n",
    "    struct = disk(4)\n",
    "    tumors = np.zeros(sub.shape)\n",
    "    for i in range(min_slice - 10, max_slice + 10):\n",
    "        if np.count_nonzero(sub[..., i]) == 0:\n",
    "            continue\n",
    "\n",
    "        test = binary_opening(sub[..., i], struct)\n",
    "        label_image = label(test)\n",
    "\n",
    "        list_of_data = []\n",
    "        for region in regionprops(label_image):\n",
    "            data = []\n",
    "            centroid = tuple(int(x) for x in region.centroid)\n",
    "            if (region.eccentricity < 0.95 and region.extent > 0.45 and region.area < 3600 and region.area > 50\n",
    "            and np.sum(points_in_poly(region.coords, coords)) > region.area // 2):\n",
    "                data.append(centroid)\n",
    "                data.append(region.area)\n",
    "                list_of_data.append(data)\n",
    "        \n",
    "        if not list_of_data:\n",
    "            continue\n",
    "\n",
    "        centroid = max(list_of_data, key=lambda item:item[1])[0]\n",
    "        segmented_tumor = flood_fill(label_image, centroid, 255)\n",
    "        segmented_tumor[segmented_tumor < 255] = 0\n",
    "        tumors[..., i] = segmented_tumor\n",
    "    tumors /= 255\n",
    "    return tumors"
   ]
  },
  {
   "cell_type": "markdown",
   "metadata": {},
   "source": [
    "Fonction qui calcule le dice score de la segmentation au niveau des pixels."
   ]
  },
  {
   "cell_type": "code",
   "execution_count": 25,
   "metadata": {
    "tags": []
   },
   "outputs": [],
   "source": [
    "def dice_score(truth, predictions):\n",
    "    dice = np.sum(predictions[truth])*2.0 / (np.sum(predictions) + np.sum(truth))\n",
    "    return dice"
   ]
  },
  {
   "cell_type": "markdown",
   "metadata": {},
   "source": [
    "Cette fonction calcule le volume de chaque poumon. On utilise la taille des voxels contenu dans le header du fichier nii pour cela."
   ]
  },
  {
   "cell_type": "code",
   "execution_count": 26,
   "metadata": {
    "tags": []
   },
   "outputs": [],
   "source": [
    "def get_volume(left_pixels, right_pixels, img):\n",
    "    header = img.header\n",
    "    zoom = header.get_zooms()\n",
    "    volume_voxel = zoom[0] * zoom[1] * zoom[2]\n",
    "    volume_left = volume_voxel * right_pixels\n",
    "    volume_right = volume_voxel * left_pixels\n",
    "    return volume_left / 1000000, volume_right / 1000000"
   ]
  },
  {
   "cell_type": "markdown",
   "metadata": {},
   "source": [
    "Cette fonction calcule le volume de la tumeur. On fait la somme de l'image 3d des tumeurs ségmentées."
   ]
  },
  {
   "cell_type": "code",
   "execution_count": 27,
   "metadata": {
    "tags": []
   },
   "outputs": [],
   "source": [
    "def get_volume_tumor(first_tumor, img):\n",
    "    pixels = np.sum(first_tumor / 255)\n",
    "    header = img.header\n",
    "    zoom = header.get_zooms()\n",
    "    volume_voxel = zoom[0] * zoom[1] * zoom[2]\n",
    "    volume = volume_voxel * pixels\n",
    "    return volume / 1000000"
   ]
  },
  {
   "cell_type": "markdown",
   "metadata": {},
   "source": [
    "# Pipeline complète"
   ]
  },
  {
   "cell_type": "markdown",
   "metadata": {},
   "source": [
    "Fonction permettant de traiter les images. Cette fonction execute toutes les fonctions décrites précédemment. Elle renvoit:\n",
    "\n",
    "1. les poumons ségmentés\n",
    "2. les tumeurs ségmentés\n",
    "3. Le volume du poumon gauche (en Litre)\n",
    "4. Le volume du poumon droit (en Litre)\n",
    "5. Le volume de la tumeur (en Litre)\n",
    "\n",
    "Elle permet également de visualiser les résultats et de se déplacer dans les slices."
   ]
  },
  {
   "cell_type": "code",
   "execution_count": 28,
   "metadata": {
    "tags": []
   },
   "outputs": [
    {
     "output_type": "stream",
     "name": "stdout",
     "text": "volume poumon gauche: 1.7583750380516052\nvolume poumon droit: 2.118578227806091\nvolume tumeur: 3.160249897077972e-05\n"
    },
    {
     "output_type": "display_data",
     "data": {
      "text/plain": "interactive(children=(IntSlider(value=0, description='slice_number', max=328), Output()), _dom_classes=('widge…",
      "application/vnd.jupyter.widget-view+json": {
       "version_major": 2,
       "version_minor": 0,
       "model_id": "5f65e75b7e82471ba1f720823149dd1d"
      }
     },
     "metadata": {}
    },
    {
     "output_type": "display_data",
     "data": {
      "text/plain": "interactive(children=(IntSlider(value=0, description='slice_number', max=328), Output()), _dom_classes=('widge…",
      "application/vnd.jupyter.widget-view+json": {
       "version_major": 2,
       "version_minor": 0,
       "model_id": "ee4e28a0516d45fc9a1ade2c9994aacd"
      }
     },
     "metadata": {}
    },
    {
     "output_type": "execute_result",
     "data": {
      "text/plain": "<function __main__.display(img, slice_number)>"
     },
     "metadata": {},
     "execution_count": 28
    }
   ],
   "source": [
    "%matplotlib inline\n",
    "from ipywidgets import interact, interactive, fixed, interact_manual\n",
    "import ipywidgets as widgets\n",
    "\n",
    "def get_data(path_data):\n",
    "    img_data, img = load(path_data)\n",
    "    preprocessed_img = preprocess(img_data)\n",
    "    otsu_closed, otsu = image_segmentation_otsu(preprocessed_img)\n",
    "    lung = get_segmented_lung(otsu, otsu_closed)\n",
    "    lung_removed = remove_blobs(lung)\n",
    "    left_pixels, right_pixels, filled_lung = compute_volume_pixels(lung_removed)\n",
    "    filled_lung = remove_blobs(filled_lung)\n",
    "    segmented_lung = fill(filled_lung)\n",
    "    segmented_lung = remove_blobs(segmented_lung)\n",
    "    sub = get_sub(lung_removed, segmented_lung)\n",
    "    tumors = get_tumors(sub)\n",
    "    list_of_sequence = get_sequences(tumors)\n",
    "    list_of_sequence_merged = merge_sublist(list_of_sequence, tumors)\n",
    "    list_of_sequence_filtered = filter_sublists(list_of_sequence_merged)\n",
    "    coords_region, area, image_region = get_tumor_region(tumors, list_of_sequence_filtered)\n",
    "    min_slice, max_slice = get_search_area(list_of_sequence_merged, tumors, area, coords_region)\n",
    "    tumors_post = get_tumors_post(sub, coords_region, min_slice, max_slice)\n",
    "    volume = get_volume(left_pixels, right_pixels, img)\n",
    "    volume_tumor = get_volume_tumor(tumors_post, img)\n",
    "    return segmented_lung, tumors_post, volume[0], volume[1], volume_tumor\n",
    "\n",
    "lung_segmented, tumor_segmented, volume_gauche, volume_droit, volume_tumor = get_data(???)\n",
    "\n",
    "print(\"volume poumon gauche: {}\".format(volume_gauche))\n",
    "print(\"volume poumon droit: {}\".format(volume_droit))\n",
    "print(\"volume tumeur: {}\".format(volume_tumor))\n",
    "\n",
    "interact(display, img=fixed(lung_segmented), slice_number=widgets.IntSlider(min=0, max=lung_segmented.shape[2] - 1, step=1, value=0))\n",
    "interact(display, img=fixed(tumor_segmented), slice_number=widgets.IntSlider(min=0, max=lung_segmented.shape[2] - 1, step=1, value=0))"
   ]
  },
  {
   "cell_type": "markdown",
   "metadata": {},
   "source": [
    "# Résultats et commentaires "
   ]
  },
  {
   "cell_type": "markdown",
   "metadata": {},
   "source": [
    "La méthode utilisée ici pour ségmenter les tumeurs est loin d'être optimale. Elle donne des résultats satisfaisant pour les cas 3, 9 et 10. La principale difficulté réside dans l'ajustement des paramètres concernant les zones de tumeur potentielle. Il est crucial d'identifier la bonne région de plus forte probabilité pour la tumeur sinon on obtient un dice score de 0. Dans le cas ou cette région de probabilité maximum est correctement identifiée, les résultats sont alors très bon car la recherche ne s'effectue que dans cette zone. Pour identifier correctement cette région, la première phase de segmentation (fonction \"get_tumors\") joue un rôle primordial. En ajustant les paramêtres (extent, taille min ,taille max, exentricité), il faut être capable d'identifier les tumeurs dans les slices présentant réellement une tumeur.\n",
    "\n",
    "La principale difficulté réside dans la grande heterogeneité des données. En utilisant certains parametre, il est possible d'obtennir de bons résultats pour un cas; mais ces paramètres ne seront plus adaptés pour un autre cas. Plus précisemment, l'extent (rapport du nombre de pixels dans l'air sur le nombre de pixels dans la bounding box) joue un rôle crucial dans notre methode pour filtrer les zones de tumeur potentielles.\n",
    "\n",
    "Il est possible d'identifier le poumon droit du poumon gauche en se basant sur le volume de ces derniers. On constate en effet que le poumon droit a toujours un volume legerement plus important que le volume du poumon gauche.\n",
    "\n",
    "Cependant, dans certains cas on trouve un volume du poumon gauche supérieur au volume du poumon droit. Cela est du à la fonction \"fill\" qui rempli les crevasses dans les poumons. Si le poumon gauche présente plus de crevasses que le poumon droit, alors il gagnera un nombre significatif de pixels quand ces crevasses seront bouchées. Cependant, nous n'avons pas trouvé d'alternative à cette fonction \"fill\" pour correctement identifier les tumeurs se trouvant au bord des poumons.\n",
    "\n",
    "Les volumes sont en litres.\n",
    "\n",
    "cas 1:\n",
    "\n",
    "    dice_score: 0.0\n",
    "\n",
    "    volume poumon droit: 2.1398890583992003\n",
    "\n",
    "    volume poumon gauche: 1.727829556465149\n",
    "    \n",
    "    volume tumeur:\n",
    "\n",
    "cas 3:\n",
    "\n",
    "    dice_score: 0.0\n",
    "\n",
    "    volume poumon droit: 3.540152400970459\n",
    "\n",
    "    volume poumon gauche: 3.456832363128662\n",
    "    \n",
    "    volume tumeur:\n",
    "\n",
    "cas 4:\n",
    "\n",
    "    dice_score: 0.0\n",
    "\n",
    "    volume poumon droit: 3.261168833074272\n",
    "\n",
    "    volume poumon gauche: 2.8309207727301122\n",
    "\n",
    "    volume tumeur:\n",
    "\n",
    "cas 5:\n",
    "\n",
    "    dice_score: 0.9175999322971029\n",
    "\n",
    "    volume poumon droit: 2.118578227806091\n",
    "\n",
    "    volume poumon gauche: 1.7583750380516052\n",
    "\n",
    "    volume tumeur: 3.160249897077972e-05\n",
    "\n",
    "cas 6:\n",
    "\n",
    "    dice_score: 0.7374476987447699\n",
    "\n",
    "    volume poumon droit: 2.6268479781603813\n",
    "\n",
    "    volume poumon gauche: 2.7642347588413956\n",
    "\n",
    "    volume tumeur: 1.0336136299021098e-05\n",
    "\n",
    "cas 9:\n",
    "\n",
    "    dice_score: 0.7661260999200058\n",
    "\n",
    "    volume poumon droit: 2.9753604266204836\n",
    "\n",
    "    volume poumon gauche: 3.0345497516021727\n",
    "\n",
    "    volume tumeur: 0.00028414032079659263\n",
    "    \n",
    "cas 10:\n",
    "\n",
    "    dice_score: 0.8525568799541402\n",
    "\n",
    "    volume poumon droit: 1.8121814800071716\n",
    "\n",
    "    volume poumon gauche: 1.3545287705751659\n",
    "    \n",
    "    volume tumeur: 4.0758489387175626e-05\n",
    "\n",
    "Un des problèmes majeures vient du fait qu'en bouchant les vaisseaux des poumons et les crevasses (fonction \"fill\") au moment de la segmentation, puis en faisant la soustraction entre l'image non bouchée et l'image bouchée, on se retrouve avec des vaisseaux ou des crevasses qui sont parfois analysés comme étant des tumeurs. Cela contribue à nos résultats sous optimaux. D'un autre côté on ne peux pas se passer de la fonction \"fill\" pour remplir les zones au bords des poumons où l'on peut trouver des tumeurs (cas 10 et 9 par example)."
   ]
  }
 ],
 "metadata": {
  "kernelspec": {
   "display_name": "Python 3",
   "language": "python",
   "name": "python3"
  },
  "language_info": {
   "codemirror_mode": {
    "name": "ipython",
    "version": 3
   },
   "file_extension": ".py",
   "mimetype": "text/x-python",
   "name": "python",
   "nbconvert_exporter": "python",
   "pygments_lexer": "ipython3",
   "version": "3.8.3"
  }
 },
 "nbformat": 4,
 "nbformat_minor": 2
}